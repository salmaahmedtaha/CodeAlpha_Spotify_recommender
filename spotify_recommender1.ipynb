{
  "nbformat": 4,
  "nbformat_minor": 0,
  "metadata": {
    "colab": {
      "provenance": [],
      "authorship_tag": "ABX9TyN19xf+AUrLjz6dQcyfNvB/",
      "include_colab_link": true
    },
    "kernelspec": {
      "name": "python3",
      "display_name": "Python 3"
    },
    "language_info": {
      "name": "python"
    }
  },
  "cells": [
    {
      "cell_type": "markdown",
      "metadata": {
        "id": "view-in-github",
        "colab_type": "text"
      },
      "source": [
        "<a href=\"https://colab.research.google.com/github/salmaahmedtaha/CodeAlpha_Spotify_recommender/blob/main/spotify_recommender1.ipynb\" target=\"_parent\"><img src=\"https://colab.research.google.com/assets/colab-badge.svg\" alt=\"Open In Colab\"/></a>"
      ]
    },
    {
      "cell_type": "code",
      "execution_count": 1,
      "metadata": {
        "colab": {
          "base_uri": "https://localhost:8080/"
        },
        "id": "RJJ1_LFelhd4",
        "outputId": "dd43e64a-b11e-4683-851e-e4265e9a08d9"
      },
      "outputs": [
        {
          "output_type": "stream",
          "name": "stdout",
          "text": [
            "Requirement already satisfied: kaggle in /usr/local/lib/python3.10/dist-packages (1.6.14)\n",
            "Requirement already satisfied: six>=1.10 in /usr/local/lib/python3.10/dist-packages (from kaggle) (1.16.0)\n",
            "Requirement already satisfied: certifi>=2023.7.22 in /usr/local/lib/python3.10/dist-packages (from kaggle) (2024.2.2)\n",
            "Requirement already satisfied: python-dateutil in /usr/local/lib/python3.10/dist-packages (from kaggle) (2.8.2)\n",
            "Requirement already satisfied: requests in /usr/local/lib/python3.10/dist-packages (from kaggle) (2.31.0)\n",
            "Requirement already satisfied: tqdm in /usr/local/lib/python3.10/dist-packages (from kaggle) (4.66.4)\n",
            "Requirement already satisfied: python-slugify in /usr/local/lib/python3.10/dist-packages (from kaggle) (8.0.4)\n",
            "Requirement already satisfied: urllib3 in /usr/local/lib/python3.10/dist-packages (from kaggle) (2.0.7)\n",
            "Requirement already satisfied: bleach in /usr/local/lib/python3.10/dist-packages (from kaggle) (6.1.0)\n",
            "Requirement already satisfied: webencodings in /usr/local/lib/python3.10/dist-packages (from bleach->kaggle) (0.5.1)\n",
            "Requirement already satisfied: text-unidecode>=1.3 in /usr/local/lib/python3.10/dist-packages (from python-slugify->kaggle) (1.3)\n",
            "Requirement already satisfied: charset-normalizer<4,>=2 in /usr/local/lib/python3.10/dist-packages (from requests->kaggle) (3.3.2)\n",
            "Requirement already satisfied: idna<4,>=2.5 in /usr/local/lib/python3.10/dist-packages (from requests->kaggle) (3.7)\n"
          ]
        }
      ],
      "source": [
        "! pip install kaggle"
      ]
    },
    {
      "cell_type": "code",
      "source": [
        "from google.colab import drive\n",
        "drive.mount('/content/drive')"
      ],
      "metadata": {
        "colab": {
          "base_uri": "https://localhost:8080/"
        },
        "id": "1NMTPOIYlkOF",
        "outputId": "0cbc16e1-7322-4e24-912d-dd7c9e21888c"
      },
      "execution_count": 2,
      "outputs": [
        {
          "output_type": "stream",
          "name": "stdout",
          "text": [
            "Mounted at /content/drive\n"
          ]
        }
      ]
    },
    {
      "cell_type": "code",
      "source": [
        "%cd /content/drive/MyDrive/spotify_recommender"
      ],
      "metadata": {
        "colab": {
          "base_uri": "https://localhost:8080/"
        },
        "id": "fqRp5Vb7lmPu",
        "outputId": "65d09a87-0440-449f-e0a5-f5a40485f826"
      },
      "execution_count": 3,
      "outputs": [
        {
          "output_type": "stream",
          "name": "stdout",
          "text": [
            "/content/drive/MyDrive/spotify_recommender\n"
          ]
        }
      ]
    },
    {
      "cell_type": "code",
      "source": [
        "!mkdir ~/.kaggle/\n",
        "! cp /content/drive/MyDrive/spotify_recommender/kaggle.json ~/.kaggle/"
      ],
      "metadata": {
        "id": "EHrdagmKlvep"
      },
      "execution_count": 4,
      "outputs": []
    },
    {
      "cell_type": "code",
      "source": [
        "! chmod 600 ~/.kaggle/kaggle.json"
      ],
      "metadata": {
        "id": "EhoS4bAul0Om"
      },
      "execution_count": 5,
      "outputs": []
    },
    {
      "cell_type": "code",
      "source": [
        "!kaggle datasets download -d notshrirang/spotify-million-song-dataset"
      ],
      "metadata": {
        "colab": {
          "base_uri": "https://localhost:8080/"
        },
        "id": "phbyJNaSl2jC",
        "outputId": "3eaaeb18-135a-46b1-9978-aac90074fbf5"
      },
      "execution_count": 6,
      "outputs": [
        {
          "output_type": "stream",
          "name": "stdout",
          "text": [
            "Dataset URL: https://www.kaggle.com/datasets/notshrirang/spotify-million-song-dataset\n",
            "License(s): CC0-1.0\n",
            "spotify-million-song-dataset.zip: Skipping, found more recently modified local copy (use --force to force download)\n"
          ]
        }
      ]
    },
    {
      "cell_type": "code",
      "source": [
        "import pandas as pd"
      ],
      "metadata": {
        "id": "6Z654oX_l47d"
      },
      "execution_count": 7,
      "outputs": []
    },
    {
      "cell_type": "code",
      "source": [
        "df = pd.read_csv(\"/content/drive/MyDrive/spotify_recommender/spotify_millsongdata.csv\")"
      ],
      "metadata": {
        "id": "LNpLAom8l8Sx"
      },
      "execution_count": 8,
      "outputs": []
    },
    {
      "cell_type": "code",
      "source": [
        "\n",
        "df.head(5)"
      ],
      "metadata": {
        "colab": {
          "base_uri": "https://localhost:8080/",
          "height": 206
        },
        "id": "cwVspD4amCOn",
        "outputId": "e23f738e-2f75-4769-ad95-f4880e1f7c5c"
      },
      "execution_count": 9,
      "outputs": [
        {
          "output_type": "execute_result",
          "data": {
            "text/plain": [
              "  artist                   song                                        link  \\\n",
              "0   ABBA  Ahe's My Kind Of Girl  /a/abba/ahes+my+kind+of+girl_20598417.html   \n",
              "1   ABBA       Andante, Andante       /a/abba/andante+andante_20002708.html   \n",
              "2   ABBA         As Good As New        /a/abba/as+good+as+new_20003033.html   \n",
              "3   ABBA                   Bang                  /a/abba/bang_20598415.html   \n",
              "4   ABBA       Bang-A-Boomerang      /a/abba/bang+a+boomerang_20002668.html   \n",
              "\n",
              "                                                text  \n",
              "0  Look at her face, it's a wonderful face  \\r\\nA...  \n",
              "1  Take it easy with me, please  \\r\\nTouch me gen...  \n",
              "2  I'll never know why I had to go  \\r\\nWhy I had...  \n",
              "3  Making somebody happy is a question of give an...  \n",
              "4  Making somebody happy is a question of give an...  "
            ],
            "text/html": [
              "\n",
              "  <div id=\"df-bc4a2791-1514-4a76-9501-eb85a839d8bf\" class=\"colab-df-container\">\n",
              "    <div>\n",
              "<style scoped>\n",
              "    .dataframe tbody tr th:only-of-type {\n",
              "        vertical-align: middle;\n",
              "    }\n",
              "\n",
              "    .dataframe tbody tr th {\n",
              "        vertical-align: top;\n",
              "    }\n",
              "\n",
              "    .dataframe thead th {\n",
              "        text-align: right;\n",
              "    }\n",
              "</style>\n",
              "<table border=\"1\" class=\"dataframe\">\n",
              "  <thead>\n",
              "    <tr style=\"text-align: right;\">\n",
              "      <th></th>\n",
              "      <th>artist</th>\n",
              "      <th>song</th>\n",
              "      <th>link</th>\n",
              "      <th>text</th>\n",
              "    </tr>\n",
              "  </thead>\n",
              "  <tbody>\n",
              "    <tr>\n",
              "      <th>0</th>\n",
              "      <td>ABBA</td>\n",
              "      <td>Ahe's My Kind Of Girl</td>\n",
              "      <td>/a/abba/ahes+my+kind+of+girl_20598417.html</td>\n",
              "      <td>Look at her face, it's a wonderful face  \\r\\nA...</td>\n",
              "    </tr>\n",
              "    <tr>\n",
              "      <th>1</th>\n",
              "      <td>ABBA</td>\n",
              "      <td>Andante, Andante</td>\n",
              "      <td>/a/abba/andante+andante_20002708.html</td>\n",
              "      <td>Take it easy with me, please  \\r\\nTouch me gen...</td>\n",
              "    </tr>\n",
              "    <tr>\n",
              "      <th>2</th>\n",
              "      <td>ABBA</td>\n",
              "      <td>As Good As New</td>\n",
              "      <td>/a/abba/as+good+as+new_20003033.html</td>\n",
              "      <td>I'll never know why I had to go  \\r\\nWhy I had...</td>\n",
              "    </tr>\n",
              "    <tr>\n",
              "      <th>3</th>\n",
              "      <td>ABBA</td>\n",
              "      <td>Bang</td>\n",
              "      <td>/a/abba/bang_20598415.html</td>\n",
              "      <td>Making somebody happy is a question of give an...</td>\n",
              "    </tr>\n",
              "    <tr>\n",
              "      <th>4</th>\n",
              "      <td>ABBA</td>\n",
              "      <td>Bang-A-Boomerang</td>\n",
              "      <td>/a/abba/bang+a+boomerang_20002668.html</td>\n",
              "      <td>Making somebody happy is a question of give an...</td>\n",
              "    </tr>\n",
              "  </tbody>\n",
              "</table>\n",
              "</div>\n",
              "    <div class=\"colab-df-buttons\">\n",
              "\n",
              "  <div class=\"colab-df-container\">\n",
              "    <button class=\"colab-df-convert\" onclick=\"convertToInteractive('df-bc4a2791-1514-4a76-9501-eb85a839d8bf')\"\n",
              "            title=\"Convert this dataframe to an interactive table.\"\n",
              "            style=\"display:none;\">\n",
              "\n",
              "  <svg xmlns=\"http://www.w3.org/2000/svg\" height=\"24px\" viewBox=\"0 -960 960 960\">\n",
              "    <path d=\"M120-120v-720h720v720H120Zm60-500h600v-160H180v160Zm220 220h160v-160H400v160Zm0 220h160v-160H400v160ZM180-400h160v-160H180v160Zm440 0h160v-160H620v160ZM180-180h160v-160H180v160Zm440 0h160v-160H620v160Z\"/>\n",
              "  </svg>\n",
              "    </button>\n",
              "\n",
              "  <style>\n",
              "    .colab-df-container {\n",
              "      display:flex;\n",
              "      gap: 12px;\n",
              "    }\n",
              "\n",
              "    .colab-df-convert {\n",
              "      background-color: #E8F0FE;\n",
              "      border: none;\n",
              "      border-radius: 50%;\n",
              "      cursor: pointer;\n",
              "      display: none;\n",
              "      fill: #1967D2;\n",
              "      height: 32px;\n",
              "      padding: 0 0 0 0;\n",
              "      width: 32px;\n",
              "    }\n",
              "\n",
              "    .colab-df-convert:hover {\n",
              "      background-color: #E2EBFA;\n",
              "      box-shadow: 0px 1px 2px rgba(60, 64, 67, 0.3), 0px 1px 3px 1px rgba(60, 64, 67, 0.15);\n",
              "      fill: #174EA6;\n",
              "    }\n",
              "\n",
              "    .colab-df-buttons div {\n",
              "      margin-bottom: 4px;\n",
              "    }\n",
              "\n",
              "    [theme=dark] .colab-df-convert {\n",
              "      background-color: #3B4455;\n",
              "      fill: #D2E3FC;\n",
              "    }\n",
              "\n",
              "    [theme=dark] .colab-df-convert:hover {\n",
              "      background-color: #434B5C;\n",
              "      box-shadow: 0px 1px 3px 1px rgba(0, 0, 0, 0.15);\n",
              "      filter: drop-shadow(0px 1px 2px rgba(0, 0, 0, 0.3));\n",
              "      fill: #FFFFFF;\n",
              "    }\n",
              "  </style>\n",
              "\n",
              "    <script>\n",
              "      const buttonEl =\n",
              "        document.querySelector('#df-bc4a2791-1514-4a76-9501-eb85a839d8bf button.colab-df-convert');\n",
              "      buttonEl.style.display =\n",
              "        google.colab.kernel.accessAllowed ? 'block' : 'none';\n",
              "\n",
              "      async function convertToInteractive(key) {\n",
              "        const element = document.querySelector('#df-bc4a2791-1514-4a76-9501-eb85a839d8bf');\n",
              "        const dataTable =\n",
              "          await google.colab.kernel.invokeFunction('convertToInteractive',\n",
              "                                                    [key], {});\n",
              "        if (!dataTable) return;\n",
              "\n",
              "        const docLinkHtml = 'Like what you see? Visit the ' +\n",
              "          '<a target=\"_blank\" href=https://colab.research.google.com/notebooks/data_table.ipynb>data table notebook</a>'\n",
              "          + ' to learn more about interactive tables.';\n",
              "        element.innerHTML = '';\n",
              "        dataTable['output_type'] = 'display_data';\n",
              "        await google.colab.output.renderOutput(dataTable, element);\n",
              "        const docLink = document.createElement('div');\n",
              "        docLink.innerHTML = docLinkHtml;\n",
              "        element.appendChild(docLink);\n",
              "      }\n",
              "    </script>\n",
              "  </div>\n",
              "\n",
              "\n",
              "<div id=\"df-a1d72d3a-1d7f-4915-a9fd-fbb44611cad4\">\n",
              "  <button class=\"colab-df-quickchart\" onclick=\"quickchart('df-a1d72d3a-1d7f-4915-a9fd-fbb44611cad4')\"\n",
              "            title=\"Suggest charts\"\n",
              "            style=\"display:none;\">\n",
              "\n",
              "<svg xmlns=\"http://www.w3.org/2000/svg\" height=\"24px\"viewBox=\"0 0 24 24\"\n",
              "     width=\"24px\">\n",
              "    <g>\n",
              "        <path d=\"M19 3H5c-1.1 0-2 .9-2 2v14c0 1.1.9 2 2 2h14c1.1 0 2-.9 2-2V5c0-1.1-.9-2-2-2zM9 17H7v-7h2v7zm4 0h-2V7h2v10zm4 0h-2v-4h2v4z\"/>\n",
              "    </g>\n",
              "</svg>\n",
              "  </button>\n",
              "\n",
              "<style>\n",
              "  .colab-df-quickchart {\n",
              "      --bg-color: #E8F0FE;\n",
              "      --fill-color: #1967D2;\n",
              "      --hover-bg-color: #E2EBFA;\n",
              "      --hover-fill-color: #174EA6;\n",
              "      --disabled-fill-color: #AAA;\n",
              "      --disabled-bg-color: #DDD;\n",
              "  }\n",
              "\n",
              "  [theme=dark] .colab-df-quickchart {\n",
              "      --bg-color: #3B4455;\n",
              "      --fill-color: #D2E3FC;\n",
              "      --hover-bg-color: #434B5C;\n",
              "      --hover-fill-color: #FFFFFF;\n",
              "      --disabled-bg-color: #3B4455;\n",
              "      --disabled-fill-color: #666;\n",
              "  }\n",
              "\n",
              "  .colab-df-quickchart {\n",
              "    background-color: var(--bg-color);\n",
              "    border: none;\n",
              "    border-radius: 50%;\n",
              "    cursor: pointer;\n",
              "    display: none;\n",
              "    fill: var(--fill-color);\n",
              "    height: 32px;\n",
              "    padding: 0;\n",
              "    width: 32px;\n",
              "  }\n",
              "\n",
              "  .colab-df-quickchart:hover {\n",
              "    background-color: var(--hover-bg-color);\n",
              "    box-shadow: 0 1px 2px rgba(60, 64, 67, 0.3), 0 1px 3px 1px rgba(60, 64, 67, 0.15);\n",
              "    fill: var(--button-hover-fill-color);\n",
              "  }\n",
              "\n",
              "  .colab-df-quickchart-complete:disabled,\n",
              "  .colab-df-quickchart-complete:disabled:hover {\n",
              "    background-color: var(--disabled-bg-color);\n",
              "    fill: var(--disabled-fill-color);\n",
              "    box-shadow: none;\n",
              "  }\n",
              "\n",
              "  .colab-df-spinner {\n",
              "    border: 2px solid var(--fill-color);\n",
              "    border-color: transparent;\n",
              "    border-bottom-color: var(--fill-color);\n",
              "    animation:\n",
              "      spin 1s steps(1) infinite;\n",
              "  }\n",
              "\n",
              "  @keyframes spin {\n",
              "    0% {\n",
              "      border-color: transparent;\n",
              "      border-bottom-color: var(--fill-color);\n",
              "      border-left-color: var(--fill-color);\n",
              "    }\n",
              "    20% {\n",
              "      border-color: transparent;\n",
              "      border-left-color: var(--fill-color);\n",
              "      border-top-color: var(--fill-color);\n",
              "    }\n",
              "    30% {\n",
              "      border-color: transparent;\n",
              "      border-left-color: var(--fill-color);\n",
              "      border-top-color: var(--fill-color);\n",
              "      border-right-color: var(--fill-color);\n",
              "    }\n",
              "    40% {\n",
              "      border-color: transparent;\n",
              "      border-right-color: var(--fill-color);\n",
              "      border-top-color: var(--fill-color);\n",
              "    }\n",
              "    60% {\n",
              "      border-color: transparent;\n",
              "      border-right-color: var(--fill-color);\n",
              "    }\n",
              "    80% {\n",
              "      border-color: transparent;\n",
              "      border-right-color: var(--fill-color);\n",
              "      border-bottom-color: var(--fill-color);\n",
              "    }\n",
              "    90% {\n",
              "      border-color: transparent;\n",
              "      border-bottom-color: var(--fill-color);\n",
              "    }\n",
              "  }\n",
              "</style>\n",
              "\n",
              "  <script>\n",
              "    async function quickchart(key) {\n",
              "      const quickchartButtonEl =\n",
              "        document.querySelector('#' + key + ' button');\n",
              "      quickchartButtonEl.disabled = true;  // To prevent multiple clicks.\n",
              "      quickchartButtonEl.classList.add('colab-df-spinner');\n",
              "      try {\n",
              "        const charts = await google.colab.kernel.invokeFunction(\n",
              "            'suggestCharts', [key], {});\n",
              "      } catch (error) {\n",
              "        console.error('Error during call to suggestCharts:', error);\n",
              "      }\n",
              "      quickchartButtonEl.classList.remove('colab-df-spinner');\n",
              "      quickchartButtonEl.classList.add('colab-df-quickchart-complete');\n",
              "    }\n",
              "    (() => {\n",
              "      let quickchartButtonEl =\n",
              "        document.querySelector('#df-a1d72d3a-1d7f-4915-a9fd-fbb44611cad4 button');\n",
              "      quickchartButtonEl.style.display =\n",
              "        google.colab.kernel.accessAllowed ? 'block' : 'none';\n",
              "    })();\n",
              "  </script>\n",
              "</div>\n",
              "\n",
              "    </div>\n",
              "  </div>\n"
            ],
            "application/vnd.google.colaboratory.intrinsic+json": {
              "type": "dataframe",
              "variable_name": "df",
              "summary": "{\n  \"name\": \"df\",\n  \"rows\": 57650,\n  \"fields\": [\n    {\n      \"column\": \"artist\",\n      \"properties\": {\n        \"dtype\": \"category\",\n        \"num_unique_values\": 643,\n        \"samples\": [\n          \"Ziggy Marley\",\n          \"O.A.R.\",\n          \"Styx\"\n        ],\n        \"semantic_type\": \"\",\n        \"description\": \"\"\n      }\n    },\n    {\n      \"column\": \"song\",\n      \"properties\": {\n        \"dtype\": \"string\",\n        \"num_unique_values\": 44824,\n        \"samples\": [\n          \"Tear Me Down\",\n          \"Lakky Lady\",\n          \"They All Went To Mexico\"\n        ],\n        \"semantic_type\": \"\",\n        \"description\": \"\"\n      }\n    },\n    {\n      \"column\": \"link\",\n      \"properties\": {\n        \"dtype\": \"string\",\n        \"num_unique_values\": 57650,\n        \"samples\": [\n          \"/w/wishbone+ash/right+or+wrong_20147150.html\",\n          \"/a/aerosmith/this+little+light+of+mine_20644484.html\",\n          \"/f/fall+out+boy/dance+dance_10113666.html\"\n        ],\n        \"semantic_type\": \"\",\n        \"description\": \"\"\n      }\n    },\n    {\n      \"column\": \"text\",\n      \"properties\": {\n        \"dtype\": \"string\",\n        \"num_unique_values\": 57494,\n        \"samples\": [\n          \"When the grey skies turn to blue  \\r\\nAnd the dark clouds blow away  \\r\\nIn the morning of a new life  \\r\\nWhen the sun comes shining through  \\r\\nWhen the grey skies turn to blue  \\r\\nIn the morning of a new life  \\r\\nWhen the sun comes shining through  \\r\\nWhen the grey skies turn to blue  \\r\\nMeet me on a bright and windy day  \\r\\nWhen the breeze has blown  \\r\\nThe gray skies far away  \\r\\nHigh upon a hillside  \\r\\nWhen the sun comes shining through  \\r\\nAnd the grey skies turn to blue  \\r\\nWhen the grey skies turn to blue  \\r\\nWhen the grey skies turn to blue  \\r\\n\\r\\n\",\n          \"I met a girl a wonderful girl  \\r\\nWho's really got a lot to recommend her for a girl  \\r\\nFabulous creature without any doubt  \\r\\nHey what am I getting so excited about  \\r\\nShe's just a girl an everyday girl  \\r\\nAnd yet I guess she's really rather special for a girl  \\r\\nFor once you've seen her the others are not  \\r\\nHey what am I getting so excited about  \\r\\nBut so what what has she got others have not  \\r\\nTwo eyes two lips a nose all girls have some of those  \\r\\nBut when she looks up at me what do I see  \\r\\nThe most enchanting face my pulse begins to race  \\r\\nHey I met a girl a marvelous girl  \\r\\nShe rarer than uranium and fairer than a pearl  \\r\\nFound me a treasure and I want to shout  \\r\\nHey what am I getting so excited about  \\r\\nBut so what what has she got others have not  \\r\\nTwo eyes two lips a nose all girls have some of those  \\r\\nBut when she looks up at me what do I see  \\r\\nThe most enchanting face my pulse begins to race  \\r\\n(I got a girl a marvelous girl)  \\r\\n(She rarer than uranium and fairer than a pearl)  \\r\\nFound me a treasure and I want to shout  \\r\\nThis is what am I getting so excited about  \\r\\n(He met a girl) and I fell in love today\\r\\n\\r\\n\",\n          \"She's over by the corner  \\r\\nGot her hands by her sides  \\r\\nThey hit her harder harder harder  \\r\\nTill they thought she might die  \\r\\n  \\r\\nWell I got a foggy notion,  \\r\\nDo it again  \\r\\nOver by the corner,  \\r\\nDo it again  \\r\\nI got my calamine lotion baby,  \\r\\nDo it again  \\r\\nI got a foggy notion,  \\r\\nDo it again  \\r\\n  \\r\\nShe made me do something  \\r\\nThat I never did before  \\r\\nI rushed right down  \\r\\nTo a flower store  \\r\\nI bought her a bundle  \\r\\nA beautiful batch  \\r\\nDon't you know something,  \\r\\nShe sent 'em right back  \\r\\n  \\r\\nSally Mae, Sally Mae,  \\r\\nSally Mae, Sally Mae  \\r\\nSally Mae, Sally Mae,  \\r\\nSally Mae, Sally Mae\\r\\n\\r\\n\"\n        ],\n        \"semantic_type\": \"\",\n        \"description\": \"\"\n      }\n    }\n  ]\n}"
            }
          },
          "metadata": {},
          "execution_count": 9
        }
      ]
    },
    {
      "cell_type": "code",
      "source": [
        "\n",
        "df.shape"
      ],
      "metadata": {
        "colab": {
          "base_uri": "https://localhost:8080/"
        },
        "id": "1kapnTcEmEf4",
        "outputId": "42e23c6b-0d15-450f-a179-b6d97c1e3f3e"
      },
      "execution_count": 10,
      "outputs": [
        {
          "output_type": "execute_result",
          "data": {
            "text/plain": [
              "(57650, 4)"
            ]
          },
          "metadata": {},
          "execution_count": 10
        }
      ]
    },
    {
      "cell_type": "code",
      "source": [
        "df.isnull().sum()"
      ],
      "metadata": {
        "colab": {
          "base_uri": "https://localhost:8080/"
        },
        "id": "ib-kGoi8mFod",
        "outputId": "9c940b07-6aae-4c84-8a3a-86a5eb1caf44"
      },
      "execution_count": 11,
      "outputs": [
        {
          "output_type": "execute_result",
          "data": {
            "text/plain": [
              "artist    0\n",
              "song      0\n",
              "link      0\n",
              "text      0\n",
              "dtype: int64"
            ]
          },
          "metadata": {},
          "execution_count": 11
        }
      ]
    },
    {
      "cell_type": "code",
      "source": [
        "df =df.sample(5000).drop('link', axis=1).reset_index(drop=True)"
      ],
      "metadata": {
        "id": "29TYTvHhmHRY"
      },
      "execution_count": 12,
      "outputs": []
    },
    {
      "cell_type": "code",
      "source": [
        "df.head(10)"
      ],
      "metadata": {
        "colab": {
          "base_uri": "https://localhost:8080/",
          "height": 363
        },
        "id": "c2bAwAZwmIo7",
        "outputId": "86c503f0-24ef-4b90-8951-e4b38d9b0080"
      },
      "execution_count": 13,
      "outputs": [
        {
          "output_type": "execute_result",
          "data": {
            "text/plain": [
              "             artist                 song  \\\n",
              "0          Bon Jovi         Diamond Ring   \n",
              "1  System Of A Down          Innervision   \n",
              "2            Europe               Reason   \n",
              "3             Bread      She Was My Lady   \n",
              "4              Glee      Defying Gravity   \n",
              "5         Sam Smith              Restart   \n",
              "6     George Strait       Overnight Male   \n",
              "7           Hollies  Gasoline Alley Bred   \n",
              "8        Ian Hunter    The Artful Dodger   \n",
              "9         Nick Cave       The Mercy Seat   \n",
              "\n",
              "                                                text  \n",
              "0  Diamond ring, wear it on your hand  \\r\\nIt's g...  \n",
              "1  I have a home  \\r\\nLonging to roam  \\r\\nI have...  \n",
              "2  And everybody will get to play  \\r\\nThe hand t...  \n",
              "3  She Was My Lady  \\r\\n(David Gates)  \\r\\n  \\r\\n...  \n",
              "4  Something has changed within me  \\r\\nSomething...  \n",
              "5  It was a Monday night when you told me it was ...  \n",
              "6  Let me be your male-man  \\r\\nAnd I'll always c...  \n",
              "7  Oh woman get your head out of curlers !  \\r\\nT...  \n",
              "8  How ya doin', all right?  \\r\\nI-I-I spy with m...  \n",
              "9  It began when they come took me from my home  ...  "
            ],
            "text/html": [
              "\n",
              "  <div id=\"df-37a4a0ad-edc7-4cba-8dee-e413848dcf39\" class=\"colab-df-container\">\n",
              "    <div>\n",
              "<style scoped>\n",
              "    .dataframe tbody tr th:only-of-type {\n",
              "        vertical-align: middle;\n",
              "    }\n",
              "\n",
              "    .dataframe tbody tr th {\n",
              "        vertical-align: top;\n",
              "    }\n",
              "\n",
              "    .dataframe thead th {\n",
              "        text-align: right;\n",
              "    }\n",
              "</style>\n",
              "<table border=\"1\" class=\"dataframe\">\n",
              "  <thead>\n",
              "    <tr style=\"text-align: right;\">\n",
              "      <th></th>\n",
              "      <th>artist</th>\n",
              "      <th>song</th>\n",
              "      <th>text</th>\n",
              "    </tr>\n",
              "  </thead>\n",
              "  <tbody>\n",
              "    <tr>\n",
              "      <th>0</th>\n",
              "      <td>Bon Jovi</td>\n",
              "      <td>Diamond Ring</td>\n",
              "      <td>Diamond ring, wear it on your hand  \\r\\nIt's g...</td>\n",
              "    </tr>\n",
              "    <tr>\n",
              "      <th>1</th>\n",
              "      <td>System Of A Down</td>\n",
              "      <td>Innervision</td>\n",
              "      <td>I have a home  \\r\\nLonging to roam  \\r\\nI have...</td>\n",
              "    </tr>\n",
              "    <tr>\n",
              "      <th>2</th>\n",
              "      <td>Europe</td>\n",
              "      <td>Reason</td>\n",
              "      <td>And everybody will get to play  \\r\\nThe hand t...</td>\n",
              "    </tr>\n",
              "    <tr>\n",
              "      <th>3</th>\n",
              "      <td>Bread</td>\n",
              "      <td>She Was My Lady</td>\n",
              "      <td>She Was My Lady  \\r\\n(David Gates)  \\r\\n  \\r\\n...</td>\n",
              "    </tr>\n",
              "    <tr>\n",
              "      <th>4</th>\n",
              "      <td>Glee</td>\n",
              "      <td>Defying Gravity</td>\n",
              "      <td>Something has changed within me  \\r\\nSomething...</td>\n",
              "    </tr>\n",
              "    <tr>\n",
              "      <th>5</th>\n",
              "      <td>Sam Smith</td>\n",
              "      <td>Restart</td>\n",
              "      <td>It was a Monday night when you told me it was ...</td>\n",
              "    </tr>\n",
              "    <tr>\n",
              "      <th>6</th>\n",
              "      <td>George Strait</td>\n",
              "      <td>Overnight Male</td>\n",
              "      <td>Let me be your male-man  \\r\\nAnd I'll always c...</td>\n",
              "    </tr>\n",
              "    <tr>\n",
              "      <th>7</th>\n",
              "      <td>Hollies</td>\n",
              "      <td>Gasoline Alley Bred</td>\n",
              "      <td>Oh woman get your head out of curlers !  \\r\\nT...</td>\n",
              "    </tr>\n",
              "    <tr>\n",
              "      <th>8</th>\n",
              "      <td>Ian Hunter</td>\n",
              "      <td>The Artful Dodger</td>\n",
              "      <td>How ya doin', all right?  \\r\\nI-I-I spy with m...</td>\n",
              "    </tr>\n",
              "    <tr>\n",
              "      <th>9</th>\n",
              "      <td>Nick Cave</td>\n",
              "      <td>The Mercy Seat</td>\n",
              "      <td>It began when they come took me from my home  ...</td>\n",
              "    </tr>\n",
              "  </tbody>\n",
              "</table>\n",
              "</div>\n",
              "    <div class=\"colab-df-buttons\">\n",
              "\n",
              "  <div class=\"colab-df-container\">\n",
              "    <button class=\"colab-df-convert\" onclick=\"convertToInteractive('df-37a4a0ad-edc7-4cba-8dee-e413848dcf39')\"\n",
              "            title=\"Convert this dataframe to an interactive table.\"\n",
              "            style=\"display:none;\">\n",
              "\n",
              "  <svg xmlns=\"http://www.w3.org/2000/svg\" height=\"24px\" viewBox=\"0 -960 960 960\">\n",
              "    <path d=\"M120-120v-720h720v720H120Zm60-500h600v-160H180v160Zm220 220h160v-160H400v160Zm0 220h160v-160H400v160ZM180-400h160v-160H180v160Zm440 0h160v-160H620v160ZM180-180h160v-160H180v160Zm440 0h160v-160H620v160Z\"/>\n",
              "  </svg>\n",
              "    </button>\n",
              "\n",
              "  <style>\n",
              "    .colab-df-container {\n",
              "      display:flex;\n",
              "      gap: 12px;\n",
              "    }\n",
              "\n",
              "    .colab-df-convert {\n",
              "      background-color: #E8F0FE;\n",
              "      border: none;\n",
              "      border-radius: 50%;\n",
              "      cursor: pointer;\n",
              "      display: none;\n",
              "      fill: #1967D2;\n",
              "      height: 32px;\n",
              "      padding: 0 0 0 0;\n",
              "      width: 32px;\n",
              "    }\n",
              "\n",
              "    .colab-df-convert:hover {\n",
              "      background-color: #E2EBFA;\n",
              "      box-shadow: 0px 1px 2px rgba(60, 64, 67, 0.3), 0px 1px 3px 1px rgba(60, 64, 67, 0.15);\n",
              "      fill: #174EA6;\n",
              "    }\n",
              "\n",
              "    .colab-df-buttons div {\n",
              "      margin-bottom: 4px;\n",
              "    }\n",
              "\n",
              "    [theme=dark] .colab-df-convert {\n",
              "      background-color: #3B4455;\n",
              "      fill: #D2E3FC;\n",
              "    }\n",
              "\n",
              "    [theme=dark] .colab-df-convert:hover {\n",
              "      background-color: #434B5C;\n",
              "      box-shadow: 0px 1px 3px 1px rgba(0, 0, 0, 0.15);\n",
              "      filter: drop-shadow(0px 1px 2px rgba(0, 0, 0, 0.3));\n",
              "      fill: #FFFFFF;\n",
              "    }\n",
              "  </style>\n",
              "\n",
              "    <script>\n",
              "      const buttonEl =\n",
              "        document.querySelector('#df-37a4a0ad-edc7-4cba-8dee-e413848dcf39 button.colab-df-convert');\n",
              "      buttonEl.style.display =\n",
              "        google.colab.kernel.accessAllowed ? 'block' : 'none';\n",
              "\n",
              "      async function convertToInteractive(key) {\n",
              "        const element = document.querySelector('#df-37a4a0ad-edc7-4cba-8dee-e413848dcf39');\n",
              "        const dataTable =\n",
              "          await google.colab.kernel.invokeFunction('convertToInteractive',\n",
              "                                                    [key], {});\n",
              "        if (!dataTable) return;\n",
              "\n",
              "        const docLinkHtml = 'Like what you see? Visit the ' +\n",
              "          '<a target=\"_blank\" href=https://colab.research.google.com/notebooks/data_table.ipynb>data table notebook</a>'\n",
              "          + ' to learn more about interactive tables.';\n",
              "        element.innerHTML = '';\n",
              "        dataTable['output_type'] = 'display_data';\n",
              "        await google.colab.output.renderOutput(dataTable, element);\n",
              "        const docLink = document.createElement('div');\n",
              "        docLink.innerHTML = docLinkHtml;\n",
              "        element.appendChild(docLink);\n",
              "      }\n",
              "    </script>\n",
              "  </div>\n",
              "\n",
              "\n",
              "<div id=\"df-e6d3309e-2383-4b37-a0e1-fb28372e7330\">\n",
              "  <button class=\"colab-df-quickchart\" onclick=\"quickchart('df-e6d3309e-2383-4b37-a0e1-fb28372e7330')\"\n",
              "            title=\"Suggest charts\"\n",
              "            style=\"display:none;\">\n",
              "\n",
              "<svg xmlns=\"http://www.w3.org/2000/svg\" height=\"24px\"viewBox=\"0 0 24 24\"\n",
              "     width=\"24px\">\n",
              "    <g>\n",
              "        <path d=\"M19 3H5c-1.1 0-2 .9-2 2v14c0 1.1.9 2 2 2h14c1.1 0 2-.9 2-2V5c0-1.1-.9-2-2-2zM9 17H7v-7h2v7zm4 0h-2V7h2v10zm4 0h-2v-4h2v4z\"/>\n",
              "    </g>\n",
              "</svg>\n",
              "  </button>\n",
              "\n",
              "<style>\n",
              "  .colab-df-quickchart {\n",
              "      --bg-color: #E8F0FE;\n",
              "      --fill-color: #1967D2;\n",
              "      --hover-bg-color: #E2EBFA;\n",
              "      --hover-fill-color: #174EA6;\n",
              "      --disabled-fill-color: #AAA;\n",
              "      --disabled-bg-color: #DDD;\n",
              "  }\n",
              "\n",
              "  [theme=dark] .colab-df-quickchart {\n",
              "      --bg-color: #3B4455;\n",
              "      --fill-color: #D2E3FC;\n",
              "      --hover-bg-color: #434B5C;\n",
              "      --hover-fill-color: #FFFFFF;\n",
              "      --disabled-bg-color: #3B4455;\n",
              "      --disabled-fill-color: #666;\n",
              "  }\n",
              "\n",
              "  .colab-df-quickchart {\n",
              "    background-color: var(--bg-color);\n",
              "    border: none;\n",
              "    border-radius: 50%;\n",
              "    cursor: pointer;\n",
              "    display: none;\n",
              "    fill: var(--fill-color);\n",
              "    height: 32px;\n",
              "    padding: 0;\n",
              "    width: 32px;\n",
              "  }\n",
              "\n",
              "  .colab-df-quickchart:hover {\n",
              "    background-color: var(--hover-bg-color);\n",
              "    box-shadow: 0 1px 2px rgba(60, 64, 67, 0.3), 0 1px 3px 1px rgba(60, 64, 67, 0.15);\n",
              "    fill: var(--button-hover-fill-color);\n",
              "  }\n",
              "\n",
              "  .colab-df-quickchart-complete:disabled,\n",
              "  .colab-df-quickchart-complete:disabled:hover {\n",
              "    background-color: var(--disabled-bg-color);\n",
              "    fill: var(--disabled-fill-color);\n",
              "    box-shadow: none;\n",
              "  }\n",
              "\n",
              "  .colab-df-spinner {\n",
              "    border: 2px solid var(--fill-color);\n",
              "    border-color: transparent;\n",
              "    border-bottom-color: var(--fill-color);\n",
              "    animation:\n",
              "      spin 1s steps(1) infinite;\n",
              "  }\n",
              "\n",
              "  @keyframes spin {\n",
              "    0% {\n",
              "      border-color: transparent;\n",
              "      border-bottom-color: var(--fill-color);\n",
              "      border-left-color: var(--fill-color);\n",
              "    }\n",
              "    20% {\n",
              "      border-color: transparent;\n",
              "      border-left-color: var(--fill-color);\n",
              "      border-top-color: var(--fill-color);\n",
              "    }\n",
              "    30% {\n",
              "      border-color: transparent;\n",
              "      border-left-color: var(--fill-color);\n",
              "      border-top-color: var(--fill-color);\n",
              "      border-right-color: var(--fill-color);\n",
              "    }\n",
              "    40% {\n",
              "      border-color: transparent;\n",
              "      border-right-color: var(--fill-color);\n",
              "      border-top-color: var(--fill-color);\n",
              "    }\n",
              "    60% {\n",
              "      border-color: transparent;\n",
              "      border-right-color: var(--fill-color);\n",
              "    }\n",
              "    80% {\n",
              "      border-color: transparent;\n",
              "      border-right-color: var(--fill-color);\n",
              "      border-bottom-color: var(--fill-color);\n",
              "    }\n",
              "    90% {\n",
              "      border-color: transparent;\n",
              "      border-bottom-color: var(--fill-color);\n",
              "    }\n",
              "  }\n",
              "</style>\n",
              "\n",
              "  <script>\n",
              "    async function quickchart(key) {\n",
              "      const quickchartButtonEl =\n",
              "        document.querySelector('#' + key + ' button');\n",
              "      quickchartButtonEl.disabled = true;  // To prevent multiple clicks.\n",
              "      quickchartButtonEl.classList.add('colab-df-spinner');\n",
              "      try {\n",
              "        const charts = await google.colab.kernel.invokeFunction(\n",
              "            'suggestCharts', [key], {});\n",
              "      } catch (error) {\n",
              "        console.error('Error during call to suggestCharts:', error);\n",
              "      }\n",
              "      quickchartButtonEl.classList.remove('colab-df-spinner');\n",
              "      quickchartButtonEl.classList.add('colab-df-quickchart-complete');\n",
              "    }\n",
              "    (() => {\n",
              "      let quickchartButtonEl =\n",
              "        document.querySelector('#df-e6d3309e-2383-4b37-a0e1-fb28372e7330 button');\n",
              "      quickchartButtonEl.style.display =\n",
              "        google.colab.kernel.accessAllowed ? 'block' : 'none';\n",
              "    })();\n",
              "  </script>\n",
              "</div>\n",
              "\n",
              "    </div>\n",
              "  </div>\n"
            ],
            "application/vnd.google.colaboratory.intrinsic+json": {
              "type": "dataframe",
              "variable_name": "df",
              "summary": "{\n  \"name\": \"df\",\n  \"rows\": 5000,\n  \"fields\": [\n    {\n      \"column\": \"artist\",\n      \"properties\": {\n        \"dtype\": \"category\",\n        \"num_unique_values\": 605,\n        \"samples\": [\n          \"Ziggy Marley\",\n          \"Christina Aguilera\",\n          \"Stone Temple Pilots\"\n        ],\n        \"semantic_type\": \"\",\n        \"description\": \"\"\n      }\n    },\n    {\n      \"column\": \"song\",\n      \"properties\": {\n        \"dtype\": \"string\",\n        \"num_unique_values\": 4772,\n        \"samples\": [\n          \"Avalanche\",\n          \"Cul De Sac\",\n          \"Shout It Out Loud\"\n        ],\n        \"semantic_type\": \"\",\n        \"description\": \"\"\n      }\n    },\n    {\n      \"column\": \"text\",\n      \"properties\": {\n        \"dtype\": \"string\",\n        \"num_unique_values\": 5000,\n        \"samples\": [\n          \"I'm gonna lay my troubles on a railroad track  \\r\\nI'm gonna ride I ain't lookin' back  \\r\\nTried to stop but I can't unpack  \\r\\nGotta get used to the clickety-clack  \\r\\nThe big ol' wheels and the smokin' stack  \\r\\nAh babe I gotta go  \\r\\nBabe I gotta go  \\r\\n  \\r\\nLoved you honey heart and soul  \\r\\nI swear you're the sweetest thing I know  \\r\\nI loved you true and I told you so  \\r\\nI told you too come time to go  \\r\\nI'll be gone with any ol' wind that blows  \\r\\nAh babe I just can't stay  \\r\\nAnd it's bound to be that way  \\r\\n  \\r\\nThere's lots of things I'd like to see  \\r\\nFrom the mountains to the shining sea  \\r\\nUp in the sky where the wind blows free  \\r\\nTo the cities down below  \\r\\nBabe I just don't know  \\r\\nI got trouble, trouble in my soul  \\r\\nI got trouble in my soul  \\r\\n  \\r\\nI'm gonna lay my trouble on a railroad track  \\r\\nI'm gonna ride, I ain't lookin' back  \\r\\nI tried to stop but I can't unpack  \\r\\nGo to sleep with the clickety-clack  \\r\\nThe big ol' wheels and the smokin' stack  \\r\\nBabe I'm bound to go  \\r\\nI got trouble in my soul  \\r\\nI got trouble trouble in my soul\\r\\n\\r\\n\",\n          \"Thank you for coming home  \\r\\nI'm sorry that the chairs are all worn  \\r\\nI left them here I could have sworn  \\r\\nThese are my salad days  \\r\\nSlowly being eaten away  \\r\\nJust another play for today  \\r\\nOh, but I'm proud of you, but I'm proud of you  \\r\\nNothing left to make me feel small  \\r\\nLuck has left me standing so tall  \\r\\n  \\r\\n[Chorus:]  \\r\\nGold (gold)  \\r\\nAlways believe in your soul  \\r\\nYou've got the power to know  \\r\\nYou're indestructible  \\r\\nAlways believe in, that you are  \\r\\nGold (gold)  \\r\\nGlad that you're bound to return  \\r\\nThere's something I could have learned  \\r\\nYou're indestructible, always believe in...  \\r\\n  \\r\\nAfter the rush has gone  \\r\\nI hope you find a little more time  \\r\\nRemember we were partners in crime  \\r\\nIt's only two years ago  \\r\\nThe man with the suit and the face  \\r\\nYou knew that he was there on the case  \\r\\nNow he's in love with you, he's in love with you  \\r\\nAnd love is like a high prison wall  \\r\\nBut you could leave me standing so tall  \\r\\n  \\r\\n[Chorus]  \\r\\n  \\r\\nAnd love is like a high prison wall  \\r\\nBut you could leave me standing so tall  \\r\\n  \\r\\nGold (gold)  \\r\\nAlways believe in your soul  \\r\\nYou've got the power to know  \\r\\nYou're indestructible  \\r\\nAlways believe in, 'cause you are  \\r\\nGold (gold)  \\r\\nI'm glad that you're bound to return  \\r\\nSomething I could have learned  \\r\\nYou're indestructible, always believe in...  \\r\\n(Gold)\\r\\n\\r\\n\",\n          \"Big coin that you toss for heads or tails  \\r\\nBig coin that you let slip down the drain  \\r\\nBig coin didn't find where it landed  \\r\\nBig coin, big coin  \\r\\n  \\r\\nBig coin that you dropped in the river  \\r\\nLittle raft that took you across  \\r\\nLittle hand that pulled it from the gutter  \\r\\nBig coin, big coin  \\r\\n  \\r\\nIt's a tiny little heart that challenges the coin  \\r\\nBut the coin has no beat or no breath  \\r\\nBig coin won't even leave you a love note  \\r\\nBig coin, big death  \\r\\n  \\r\\nBig coin that you held and you treasured  \\r\\nBig coin that you can't believe that you lost  \\r\\nLittle kiss that helped you when you needed  \\r\\nLittle kiss, big coin  \\r\\n  \\r\\nLittle heart that has no exchange rate  \\r\\nBig coin that could join the IMF  \\r\\nLittle heart is only the greedy 'cause it's poor  \\r\\nLittle heart, big coin  \\r\\n  \\r\\nIt's a tiny little heart that challenges the coin  \\r\\nBut the coin has no north or no south  \\r\\nBig coin says it will never ever leave you  \\r\\nBig coin, big mouth  \\r\\n  \\r\\nLittle heart,  \\r\\nit ain't gold, it ain't silver  \\r\\nLittle heart,  \\r\\nit ain't wasted on me  \\r\\nLittle heart,  \\r\\nso much bigger than the coin  \\r\\nLittle heart,  \\r\\nbig guarantee  \\r\\nLittle heart,  \\r\\nbig guarantee  \\r\\n  \\r\\nLittle heart...  \\r\\n  \\r\\nIt's a tiny little heart that challenges the coin  \\r\\nBut the coin has no north or no south  \\r\\nBig coin says it will never ever leave you  \\r\\nBig coin, big mouth\\r\\n\\r\\n\"\n        ],\n        \"semantic_type\": \"\",\n        \"description\": \"\"\n      }\n    }\n  ]\n}"
            }
          },
          "metadata": {},
          "execution_count": 13
        }
      ]
    },
    {
      "cell_type": "code",
      "source": [
        "df['text'][0]"
      ],
      "metadata": {
        "colab": {
          "base_uri": "https://localhost:8080/",
          "height": 127
        },
        "id": "2X9NC_F1mKOd",
        "outputId": "d4d4124b-f71e-41cc-8f98-9dc8f59879ab"
      },
      "execution_count": 14,
      "outputs": [
        {
          "output_type": "execute_result",
          "data": {
            "text/plain": [
              "\"Diamond ring, wear it on your hand  \\r\\nIt's gonna tell the world, I'm your only man  \\r\\nDiamond ring, diamond ring  \\r\\nBaby, you're my everything, diamond ring  \\r\\n  \\r\\nRed, red rose brought it home to you  \\r\\nBlood red rose, tells me that you're true  \\r\\nRed, red rose, blood-red rose  \\r\\nLike a fire inside that grows, blood-red rose  \\r\\n  \\r\\nWhen you're hungry, I will fill you up  \\r\\nWhen you're thristy, drink out of my loving cup  \\r\\nWhen you're crying, I'll be the tears for you  \\r\\nThere's nothing that I wouldn't do for you  \\r\\n  \\r\\nWhen you're hungry, I will fill you up  \\r\\nWhen you're thristy, drink out of my loving cup  \\r\\nWhen you're crying, I'll be the tears for you  \\r\\nThere's nothing that I wouldn't do for you  \\r\\n  \\r\\nYou know, I bleed every night you sleep  \\r\\n'Cause I don't know if I'm in your dreams  \\r\\nI want to be your everything...  \\r\\n  \\r\\nDiamond ring, wear it on your hand  \\r\\nIt's gonna tell the world, I'm your only man  \\r\\nDiamond ring, diamond ring  \\r\\nBaby, you're my everything, diamond ring  \\r\\nDarling, you're my everything, diamond ring  \\r\\nNow, you've got me on your string... Diamond ring  \\r\\n\\r\\n\""
            ],
            "application/vnd.google.colaboratory.intrinsic+json": {
              "type": "string"
            }
          },
          "metadata": {},
          "execution_count": 14
        }
      ]
    },
    {
      "cell_type": "code",
      "source": [
        "df['text'] = df['text'].str.lower().replace(r'^\\w\\s', ' ').replace(r'\\n', ' ', regex = True)"
      ],
      "metadata": {
        "id": "z5Z5qlBamMhk"
      },
      "execution_count": 15,
      "outputs": []
    },
    {
      "cell_type": "code",
      "source": [
        "import nltk\n",
        "from nltk.stem.porter import PorterStemmer\n",
        "stemmer = PorterStemmer()\n",
        "\n",
        "def tokenization(txt):\n",
        "    tokens = nltk.word_tokenize(txt)\n",
        "    stemming = [stemmer.stem(w) for w in tokens]\n",
        "    return \" \".join(stemming)"
      ],
      "metadata": {
        "id": "i690x37amOVf"
      },
      "execution_count": 16,
      "outputs": []
    },
    {
      "cell_type": "code",
      "source": [
        "\n",
        "from sklearn.feature_extraction.text import TfidfVectorizer\n",
        "from sklearn.metrics.pairwise import cosine_similarity"
      ],
      "metadata": {
        "id": "xPfTaxvBmPmt"
      },
      "execution_count": 19,
      "outputs": []
    },
    {
      "cell_type": "code",
      "source": [
        "\n",
        "tfidvector = TfidfVectorizer(analyzer='word',stop_words='english')\n",
        "matrix = tfidvector.fit_transform(df['text'])\n",
        "similarity = cosine_similarity(matrix)"
      ],
      "metadata": {
        "id": "6OObhp-LmXXW"
      },
      "execution_count": 20,
      "outputs": []
    },
    {
      "cell_type": "code",
      "source": [
        "\n",
        "similarity[0]"
      ],
      "metadata": {
        "colab": {
          "base_uri": "https://localhost:8080/"
        },
        "id": "de7ThmB8mYkr",
        "outputId": "b172edce-1a89-48db-f486-ab26c38a488d"
      },
      "execution_count": 21,
      "outputs": [
        {
          "output_type": "execute_result",
          "data": {
            "text/plain": [
              "array([1.        , 0.00105458, 0.00945361, ..., 0.01611385, 0.01076443,\n",
              "       0.00697517])"
            ]
          },
          "metadata": {},
          "execution_count": 21
        }
      ]
    },
    {
      "cell_type": "code",
      "source": [
        "df[df['song'] == 'Diamond Ring']"
      ],
      "metadata": {
        "colab": {
          "base_uri": "https://localhost:8080/",
          "height": 81
        },
        "id": "gaGE4kyWmZ8x",
        "outputId": "37801a5e-4106-40ac-958e-5e61fd9f5b71"
      },
      "execution_count": 25,
      "outputs": [
        {
          "output_type": "execute_result",
          "data": {
            "text/plain": [
              "     artist          song                                               text\n",
              "0  Bon Jovi  Diamond Ring  diamond ring, wear it on your hand  \\r it's go..."
            ],
            "text/html": [
              "\n",
              "  <div id=\"df-24951095-eea8-4996-b214-fb40acddc8f4\" class=\"colab-df-container\">\n",
              "    <div>\n",
              "<style scoped>\n",
              "    .dataframe tbody tr th:only-of-type {\n",
              "        vertical-align: middle;\n",
              "    }\n",
              "\n",
              "    .dataframe tbody tr th {\n",
              "        vertical-align: top;\n",
              "    }\n",
              "\n",
              "    .dataframe thead th {\n",
              "        text-align: right;\n",
              "    }\n",
              "</style>\n",
              "<table border=\"1\" class=\"dataframe\">\n",
              "  <thead>\n",
              "    <tr style=\"text-align: right;\">\n",
              "      <th></th>\n",
              "      <th>artist</th>\n",
              "      <th>song</th>\n",
              "      <th>text</th>\n",
              "    </tr>\n",
              "  </thead>\n",
              "  <tbody>\n",
              "    <tr>\n",
              "      <th>0</th>\n",
              "      <td>Bon Jovi</td>\n",
              "      <td>Diamond Ring</td>\n",
              "      <td>diamond ring, wear it on your hand  \\r it's go...</td>\n",
              "    </tr>\n",
              "  </tbody>\n",
              "</table>\n",
              "</div>\n",
              "    <div class=\"colab-df-buttons\">\n",
              "\n",
              "  <div class=\"colab-df-container\">\n",
              "    <button class=\"colab-df-convert\" onclick=\"convertToInteractive('df-24951095-eea8-4996-b214-fb40acddc8f4')\"\n",
              "            title=\"Convert this dataframe to an interactive table.\"\n",
              "            style=\"display:none;\">\n",
              "\n",
              "  <svg xmlns=\"http://www.w3.org/2000/svg\" height=\"24px\" viewBox=\"0 -960 960 960\">\n",
              "    <path d=\"M120-120v-720h720v720H120Zm60-500h600v-160H180v160Zm220 220h160v-160H400v160Zm0 220h160v-160H400v160ZM180-400h160v-160H180v160Zm440 0h160v-160H620v160ZM180-180h160v-160H180v160Zm440 0h160v-160H620v160Z\"/>\n",
              "  </svg>\n",
              "    </button>\n",
              "\n",
              "  <style>\n",
              "    .colab-df-container {\n",
              "      display:flex;\n",
              "      gap: 12px;\n",
              "    }\n",
              "\n",
              "    .colab-df-convert {\n",
              "      background-color: #E8F0FE;\n",
              "      border: none;\n",
              "      border-radius: 50%;\n",
              "      cursor: pointer;\n",
              "      display: none;\n",
              "      fill: #1967D2;\n",
              "      height: 32px;\n",
              "      padding: 0 0 0 0;\n",
              "      width: 32px;\n",
              "    }\n",
              "\n",
              "    .colab-df-convert:hover {\n",
              "      background-color: #E2EBFA;\n",
              "      box-shadow: 0px 1px 2px rgba(60, 64, 67, 0.3), 0px 1px 3px 1px rgba(60, 64, 67, 0.15);\n",
              "      fill: #174EA6;\n",
              "    }\n",
              "\n",
              "    .colab-df-buttons div {\n",
              "      margin-bottom: 4px;\n",
              "    }\n",
              "\n",
              "    [theme=dark] .colab-df-convert {\n",
              "      background-color: #3B4455;\n",
              "      fill: #D2E3FC;\n",
              "    }\n",
              "\n",
              "    [theme=dark] .colab-df-convert:hover {\n",
              "      background-color: #434B5C;\n",
              "      box-shadow: 0px 1px 3px 1px rgba(0, 0, 0, 0.15);\n",
              "      filter: drop-shadow(0px 1px 2px rgba(0, 0, 0, 0.3));\n",
              "      fill: #FFFFFF;\n",
              "    }\n",
              "  </style>\n",
              "\n",
              "    <script>\n",
              "      const buttonEl =\n",
              "        document.querySelector('#df-24951095-eea8-4996-b214-fb40acddc8f4 button.colab-df-convert');\n",
              "      buttonEl.style.display =\n",
              "        google.colab.kernel.accessAllowed ? 'block' : 'none';\n",
              "\n",
              "      async function convertToInteractive(key) {\n",
              "        const element = document.querySelector('#df-24951095-eea8-4996-b214-fb40acddc8f4');\n",
              "        const dataTable =\n",
              "          await google.colab.kernel.invokeFunction('convertToInteractive',\n",
              "                                                    [key], {});\n",
              "        if (!dataTable) return;\n",
              "\n",
              "        const docLinkHtml = 'Like what you see? Visit the ' +\n",
              "          '<a target=\"_blank\" href=https://colab.research.google.com/notebooks/data_table.ipynb>data table notebook</a>'\n",
              "          + ' to learn more about interactive tables.';\n",
              "        element.innerHTML = '';\n",
              "        dataTable['output_type'] = 'display_data';\n",
              "        await google.colab.output.renderOutput(dataTable, element);\n",
              "        const docLink = document.createElement('div');\n",
              "        docLink.innerHTML = docLinkHtml;\n",
              "        element.appendChild(docLink);\n",
              "      }\n",
              "    </script>\n",
              "  </div>\n",
              "\n",
              "\n",
              "    </div>\n",
              "  </div>\n"
            ],
            "application/vnd.google.colaboratory.intrinsic+json": {
              "type": "dataframe",
              "summary": "{\n  \"name\": \"df[df['song'] == 'Diamond Ring']\",\n  \"rows\": 1,\n  \"fields\": [\n    {\n      \"column\": \"artist\",\n      \"properties\": {\n        \"dtype\": \"string\",\n        \"num_unique_values\": 1,\n        \"samples\": [\n          \"Bon Jovi\"\n        ],\n        \"semantic_type\": \"\",\n        \"description\": \"\"\n      }\n    },\n    {\n      \"column\": \"song\",\n      \"properties\": {\n        \"dtype\": \"string\",\n        \"num_unique_values\": 1,\n        \"samples\": [\n          \"Diamond Ring\"\n        ],\n        \"semantic_type\": \"\",\n        \"description\": \"\"\n      }\n    },\n    {\n      \"column\": \"text\",\n      \"properties\": {\n        \"dtype\": \"string\",\n        \"num_unique_values\": 1,\n        \"samples\": [\n          \"diamond ring, wear it on your hand  \\r it's gonna tell the world, i'm your only man  \\r diamond ring, diamond ring  \\r baby, you're my everything, diamond ring  \\r   \\r red, red rose brought it home to you  \\r blood red rose, tells me that you're true  \\r red, red rose, blood-red rose  \\r like a fire inside that grows, blood-red rose  \\r   \\r when you're hungry, i will fill you up  \\r when you're thristy, drink out of my loving cup  \\r when you're crying, i'll be the tears for you  \\r there's nothing that i wouldn't do for you  \\r   \\r when you're hungry, i will fill you up  \\r when you're thristy, drink out of my loving cup  \\r when you're crying, i'll be the tears for you  \\r there's nothing that i wouldn't do for you  \\r   \\r you know, i bleed every night you sleep  \\r 'cause i don't know if i'm in your dreams  \\r i want to be your everything...  \\r   \\r diamond ring, wear it on your hand  \\r it's gonna tell the world, i'm your only man  \\r diamond ring, diamond ring  \\r baby, you're my everything, diamond ring  \\r darling, you're my everything, diamond ring  \\r now, you've got me on your string... diamond ring  \\r \\r \"\n        ],\n        \"semantic_type\": \"\",\n        \"description\": \"\"\n      }\n    }\n  ]\n}"
            }
          },
          "metadata": {},
          "execution_count": 25
        }
      ]
    },
    {
      "cell_type": "code",
      "source": [
        "def recommendation(song_df):\n",
        "    idx = df[df['song'] == song_df].index[0]\n",
        "    distances = sorted(list(enumerate(similarity[idx])),reverse=True,key=lambda x:x[1])\n",
        "\n",
        "    songs = []\n",
        "    for m_id in distances[1:21]:\n",
        "        songs.append(df.iloc[m_id[0]].song)\n",
        "\n",
        "    return songs"
      ],
      "metadata": {
        "id": "hQdvpvuSmbzT"
      },
      "execution_count": 23,
      "outputs": []
    },
    {
      "cell_type": "code",
      "source": [
        "recommendation('Diamond Ring')"
      ],
      "metadata": {
        "colab": {
          "base_uri": "https://localhost:8080/"
        },
        "id": "crIvdw27meXz",
        "outputId": "10c2a034-ea20-407f-db30-cfe353d038b8"
      },
      "execution_count": 26,
      "outputs": [
        {
          "output_type": "execute_result",
          "data": {
            "text/plain": [
              "['Mockingbird',\n",
              " 'Let It Ring',\n",
              " 'Jack-A-Diamonds',\n",
              " 'Love Is A Golden Ring',\n",
              " 'Ring Them Bells',\n",
              " 'Red (In My) Head',\n",
              " 'Plain Gold Ring',\n",
              " \"Can't Buy Me Love\",\n",
              " 'Silver Bells',\n",
              " 'Silver Bells',\n",
              " 'Nocturn',\n",
              " \"I Don't Want Your Money\",\n",
              " 'Mood Ring',\n",
              " 'Bring It All To Me',\n",
              " 'Ballad Of The Boy In The Red Shoes',\n",
              " 'Red',\n",
              " 'Red Rose',\n",
              " \"I'm On Fire\",\n",
              " 'Earthbound Gypsy',\n",
              " \"I Can't Give You Anything But Love\"]"
            ]
          },
          "metadata": {},
          "execution_count": 26
        }
      ]
    },
    {
      "cell_type": "code",
      "source": [
        "recommendation('She Was My Lady')"
      ],
      "metadata": {
        "colab": {
          "base_uri": "https://localhost:8080/"
        },
        "id": "wLx99uxkmrhA",
        "outputId": "e40107ca-59a8-49e9-89fe-17943099bef9"
      },
      "execution_count": 28,
      "outputs": [
        {
          "output_type": "execute_result",
          "data": {
            "text/plain": [
              "['My Sweet Lady',\n",
              " 'Sanctuary',\n",
              " 'Hello Lady Goodbye',\n",
              " 'Lady Godiva',\n",
              " 'Lover In Disguise',\n",
              " 'Walks Like A Lady',\n",
              " 'Golden Lady',\n",
              " 'If You Knew What I Knew',\n",
              " 'Lover Lay Down',\n",
              " 'Lady',\n",
              " \"Lady D'arbanville\",\n",
              " 'Sanctuary',\n",
              " 'Could You Be Loved',\n",
              " 'I Loved Another Woman',\n",
              " 'Jesus To A Child',\n",
              " 'Did You Not Hear My Lady',\n",
              " 'Queen For A Day',\n",
              " 'April Lady',\n",
              " 'Ukulele Lady',\n",
              " 'Lay Me Down']"
            ]
          },
          "metadata": {},
          "execution_count": 28
        }
      ]
    },
    {
      "cell_type": "code",
      "source": [
        "import pickle\n",
        "pickle.dump(similarity,open('similarity.pkl','wb'))\n",
        "pickle.dump(df,open('df.pkl','wb'))"
      ],
      "metadata": {
        "id": "XyTUtPutmoB9"
      },
      "execution_count": 27,
      "outputs": []
    }
  ]
}